{
  "nbformat": 4,
  "nbformat_minor": 0,
  "metadata": {
    "colab": {
      "name": "Operations_Department.ipynb",
      "provenance": [],
      "authorship_tag": "ABX9TyOI3Ff6icNsQvTPb0pS4rED",
      "include_colab_link": true
    },
    "kernelspec": {
      "name": "python3",
      "display_name": "Python 3"
    }
  },
  "cells": [
    {
      "cell_type": "markdown",
      "metadata": {
        "id": "view-in-github",
        "colab_type": "text"
      },
      "source": [
        "<a href=\"https://colab.research.google.com/github/prakharsingh97/Operations_Department/blob/main/Operations_Department.ipynb\" target=\"_parent\"><img src=\"https://colab.research.google.com/assets/colab-badge.svg\" alt=\"Open In Colab\"/></a>"
      ]
    },
    {
      "cell_type": "markdown",
      "metadata": {
        "id": "B-2trngBlP3p"
      },
      "source": [
        "#What are we going to learn \r\n",
        "\r\n",
        "\r\n",
        "1.   CNN \r\n",
        "2.   Deep Learning \r\n",
        "            1.  Pretrained Weights \r\n",
        "            2.  From Scratch \r\n",
        "3.   Resnet \r\n",
        "4.   Transfer Learning  -> Reduces Training Time\r\n",
        "5.   Evalutaion \r\n",
        "\r\n"
      ]
    },
    {
      "cell_type": "markdown",
      "metadata": {
        "id": "Ojx3LVDwnoRS"
      },
      "source": [
        "# Case Study\r\n"
      ]
    },
    {
      "cell_type": "markdown",
      "metadata": {
        "id": "5hOcxCqDpJj0"
      },
      "source": [
        "#Importing Dataset\r\n"
      ]
    },
    {
      "cell_type": "code",
      "metadata": {
        "id": "fx_joiVXqMbo"
      },
      "source": [
        "import os\n",
        "import cv2\n",
        "import tensorflow as tf\n",
        "import numpy as np\n",
        "from tensorflow.keras import layers, optimizers\n",
        "#keras api calls tf and use to implement deep learning\n",
        "from tensorflow.keras.applications.resnet50 import ResNet50\n",
        "# Residual Network SOA pre- trained network\n",
        "from tensorflow.keras.layers import Input, Add, Dense, Activation, ZeroPadding2D, BatchNormalization, Flatten, Conv2D, AveragePooling2D, MaxPooling2D, Dropout\n",
        "from tensorflow.keras.models import Model, load_model\n",
        "from tensorflow.keras import backend as K\n",
        "from tensorflow.keras.preprocessing.image import ImageDataGenerator\n",
        "#generate batches of images\n",
        "from tensorflow.keras.callbacks import ReduceLROnPlateau, EarlyStopping, ModelCheckpoint, LearningRateScheduler\n",
        "#EarlyStopping prvents overfitting\n",
        "#ModelCheckpoint select best model \n",
        "import matplotlib.pyplot as plt\n",
        "import seaborn as sns\n",
        "#data visualization\n",
        "import pandas as pd\n"
      ],
      "execution_count": 2,
      "outputs": []
    },
    {
      "cell_type": "markdown",
      "metadata": {
        "id": "u8FXfIbXoyUU"
      },
      "source": [
        "#Explore Dataset"
      ]
    },
    {
      "cell_type": "code",
      "metadata": {
        "id": "5P_ciLXawMZg",
        "colab": {
          "base_uri": "https://localhost:8080/"
        },
        "outputId": "65eedb66-e7d8-4d88-f7d6-c8f135679c51"
      },
      "source": [
        "#importing directory \n",
        "from google.colab import drive\n",
        "drive.mount('/content/drive')"
      ],
      "execution_count": 3,
      "outputs": [
        {
          "output_type": "stream",
          "text": [
            "Mounted at /content/drive\n"
          ],
          "name": "stdout"
        }
      ]
    },
    {
      "cell_type": "code",
      "metadata": {
        "id": "Dvdtea1x0um3"
      },
      "source": [
        "X_ray_directory = "
      ],
      "execution_count": null,
      "outputs": []
    }
  ]
}